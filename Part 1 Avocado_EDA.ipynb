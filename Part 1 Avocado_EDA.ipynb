{
 "cells": [
  {
   "cell_type": "markdown",
   "metadata": {},
   "source": [
    "# Playing with avocados, part 1- Exploratory Data Analysis"
   ]
  },
  {
   "cell_type": "markdown",
   "metadata": {},
   "source": [
    "## Table of contents\n",
    "\n",
    "- [0. Introduction](#0)\n",
    "- [1. Data preparation](#1)\n",
    "- [2. Exploratory Data Analysis](#2)\n",
    "- [2.1 Consumers' favorite avocado](#2.1)\n",
    "- [2.2 Seasonal Trends](#2.2)\n",
    "- [2.3 Effects of 2017's shortage](#2.3)\n",
    "- [3. Conclusion](#3)"
   ]
  },
  {
   "cell_type": "markdown",
   "metadata": {},
   "source": [
    "## <a id='0'>0. Introduction</a>"
   ]
  },
  {
   "cell_type": "markdown",
   "metadata": {},
   "source": [
    "This Jupyter Notebook presents an elaboration of the famous data set provided by the Hass Avocado Board and to be found on __[\"Kaggle\"](https://www.kaggle.com/neuromusic/avocado-prices)__."
   ]
  },
  {
   "cell_type": "markdown",
   "metadata": {},
   "source": [
    "The Hass Avocado Board provides the following description of the data set:"
   ]
  },
  {
   "cell_type": "markdown",
   "metadata": {},
   "source": [
    "<blockquote>The table below represents weekly 2018 retail scan data for National retail volume (units) and price. Retail scan data comes directly from retailers’ cash registers based on actual retail sales of Hass avocados. Starting in 2013 (2015, sic), the table below reflects an expanded, multi-outlet retail data set. Multi-outlet reporting includes an aggregation of the following channels: grocery, mass, club, drug, dollar and military. The Average Price (of avocados) in the table reflects a per unit (per avocado) cost, even when multiple units (avocados) are sold in bags. The Product Lookup codes (PLU’s) in the table are only for Hass avocados. Other varieties of avocados (e.g. greenskins) are not included in this table.</blockquote>"
   ]
  },
  {
   "cell_type": "markdown",
   "metadata": {},
   "source": [
    "A brief overview of the content of the columns: \n",
    "\n",
    "- `Date` - The date of the observation\n",
    "- `AveragePrice` - the average price of a single avocado\n",
    "- `type` - conventional or organic\n",
    "- `year` - the year\n",
    "- `Region` - the city or region of the observation\n",
    "- `Total Volume` - Total number of avocados sold\n",
    "- `4046` - Total number of avocados with PLU 4046 sold\n",
    "- `4225` - Total number of avocados with PLU 4225 sold\n",
    "- `4770` - Total number of avocados with PLU 4770 sold\n"
   ]
  },
  {
   "cell_type": "markdown",
   "metadata": {},
   "source": [
    "## <a id='1'>1. Data preparation</a>"
   ]
  },
  {
   "cell_type": "markdown",
   "metadata": {},
   "source": [
    "Import the necessary libraries"
   ]
  },
  {
   "cell_type": "code",
   "execution_count": 1,
   "metadata": {},
   "outputs": [],
   "source": [
    "import pandas as pd\n",
    "import numpy as np\n",
    "%matplotlib inline\n",
    "import matplotlib.pyplot as pl\n",
    "import seaborn as sns"
   ]
  },
  {
   "cell_type": "markdown",
   "metadata": {},
   "source": [
    "Import the data from the .csv file"
   ]
  },
  {
   "cell_type": "code",
   "execution_count": 2,
   "metadata": {},
   "outputs": [
    {
     "data": {
      "text/html": [
       "<div>\n",
       "<style scoped>\n",
       "    .dataframe tbody tr th:only-of-type {\n",
       "        vertical-align: middle;\n",
       "    }\n",
       "\n",
       "    .dataframe tbody tr th {\n",
       "        vertical-align: top;\n",
       "    }\n",
       "\n",
       "    .dataframe thead th {\n",
       "        text-align: right;\n",
       "    }\n",
       "</style>\n",
       "<table border=\"1\" class=\"dataframe\">\n",
       "  <thead>\n",
       "    <tr style=\"text-align: right;\">\n",
       "      <th></th>\n",
       "      <th>Unnamed: 0</th>\n",
       "      <th>Date</th>\n",
       "      <th>AveragePrice</th>\n",
       "      <th>Total Volume</th>\n",
       "      <th>4046</th>\n",
       "      <th>4225</th>\n",
       "      <th>4770</th>\n",
       "      <th>Total Bags</th>\n",
       "      <th>Small Bags</th>\n",
       "      <th>Large Bags</th>\n",
       "      <th>XLarge Bags</th>\n",
       "      <th>type</th>\n",
       "      <th>year</th>\n",
       "      <th>region</th>\n",
       "    </tr>\n",
       "  </thead>\n",
       "  <tbody>\n",
       "    <tr>\n",
       "      <th>0</th>\n",
       "      <td>0</td>\n",
       "      <td>2015-12-27</td>\n",
       "      <td>1.33</td>\n",
       "      <td>64236.62</td>\n",
       "      <td>1036.74</td>\n",
       "      <td>54454.85</td>\n",
       "      <td>48.16</td>\n",
       "      <td>8696.87</td>\n",
       "      <td>8603.62</td>\n",
       "      <td>93.25</td>\n",
       "      <td>0.0</td>\n",
       "      <td>conventional</td>\n",
       "      <td>2015</td>\n",
       "      <td>Albany</td>\n",
       "    </tr>\n",
       "    <tr>\n",
       "      <th>1</th>\n",
       "      <td>1</td>\n",
       "      <td>2015-12-20</td>\n",
       "      <td>1.35</td>\n",
       "      <td>54876.98</td>\n",
       "      <td>674.28</td>\n",
       "      <td>44638.81</td>\n",
       "      <td>58.33</td>\n",
       "      <td>9505.56</td>\n",
       "      <td>9408.07</td>\n",
       "      <td>97.49</td>\n",
       "      <td>0.0</td>\n",
       "      <td>conventional</td>\n",
       "      <td>2015</td>\n",
       "      <td>Albany</td>\n",
       "    </tr>\n",
       "    <tr>\n",
       "      <th>2</th>\n",
       "      <td>2</td>\n",
       "      <td>2015-12-13</td>\n",
       "      <td>0.93</td>\n",
       "      <td>118220.22</td>\n",
       "      <td>794.70</td>\n",
       "      <td>109149.67</td>\n",
       "      <td>130.50</td>\n",
       "      <td>8145.35</td>\n",
       "      <td>8042.21</td>\n",
       "      <td>103.14</td>\n",
       "      <td>0.0</td>\n",
       "      <td>conventional</td>\n",
       "      <td>2015</td>\n",
       "      <td>Albany</td>\n",
       "    </tr>\n",
       "    <tr>\n",
       "      <th>3</th>\n",
       "      <td>3</td>\n",
       "      <td>2015-12-06</td>\n",
       "      <td>1.08</td>\n",
       "      <td>78992.15</td>\n",
       "      <td>1132.00</td>\n",
       "      <td>71976.41</td>\n",
       "      <td>72.58</td>\n",
       "      <td>5811.16</td>\n",
       "      <td>5677.40</td>\n",
       "      <td>133.76</td>\n",
       "      <td>0.0</td>\n",
       "      <td>conventional</td>\n",
       "      <td>2015</td>\n",
       "      <td>Albany</td>\n",
       "    </tr>\n",
       "    <tr>\n",
       "      <th>4</th>\n",
       "      <td>4</td>\n",
       "      <td>2015-11-29</td>\n",
       "      <td>1.28</td>\n",
       "      <td>51039.60</td>\n",
       "      <td>941.48</td>\n",
       "      <td>43838.39</td>\n",
       "      <td>75.78</td>\n",
       "      <td>6183.95</td>\n",
       "      <td>5986.26</td>\n",
       "      <td>197.69</td>\n",
       "      <td>0.0</td>\n",
       "      <td>conventional</td>\n",
       "      <td>2015</td>\n",
       "      <td>Albany</td>\n",
       "    </tr>\n",
       "  </tbody>\n",
       "</table>\n",
       "</div>"
      ],
      "text/plain": [
       "   Unnamed: 0        Date  AveragePrice  Total Volume     4046       4225  \\\n",
       "0           0  2015-12-27          1.33      64236.62  1036.74   54454.85   \n",
       "1           1  2015-12-20          1.35      54876.98   674.28   44638.81   \n",
       "2           2  2015-12-13          0.93     118220.22   794.70  109149.67   \n",
       "3           3  2015-12-06          1.08      78992.15  1132.00   71976.41   \n",
       "4           4  2015-11-29          1.28      51039.60   941.48   43838.39   \n",
       "\n",
       "     4770  Total Bags  Small Bags  Large Bags  XLarge Bags          type  \\\n",
       "0   48.16     8696.87     8603.62       93.25          0.0  conventional   \n",
       "1   58.33     9505.56     9408.07       97.49          0.0  conventional   \n",
       "2  130.50     8145.35     8042.21      103.14          0.0  conventional   \n",
       "3   72.58     5811.16     5677.40      133.76          0.0  conventional   \n",
       "4   75.78     6183.95     5986.26      197.69          0.0  conventional   \n",
       "\n",
       "   year  region  \n",
       "0  2015  Albany  \n",
       "1  2015  Albany  \n",
       "2  2015  Albany  \n",
       "3  2015  Albany  \n",
       "4  2015  Albany  "
      ]
     },
     "execution_count": 2,
     "metadata": {},
     "output_type": "execute_result"
    }
   ],
   "source": [
    "df = pd.read_csv(\"avocado.csv\")\n",
    "\n",
    "df.head()"
   ]
  },
  {
   "cell_type": "markdown",
   "metadata": {},
   "source": [
    "We do already have an index column, so \"Unnamed: 0\" can be dropped. Plus the columns' names as they are are difficult to interpret, better to rewrite them"
   ]
  },
  {
   "cell_type": "code",
   "execution_count": 3,
   "metadata": {},
   "outputs": [],
   "source": [
    "# drop the column\n",
    "\n",
    "df.drop(\"Unnamed: 0\", axis = 1, inplace= True)\n",
    "\n",
    "# adjust the columns' names (I found online what those numbers mean)\n",
    "\n",
    "df.columns = df.columns.str.title()\n",
    "df.rename(columns ={\"Averageprice\":\"Average Price\", \"4046\":\"Small Avocados\", \"4225\":\"Medium Avocados\", \n",
    "                    \"4770\":\"Large Avocados\"}, inplace = True)"
   ]
  },
  {
   "cell_type": "markdown",
   "metadata": {},
   "source": [
    "Let's have a look at the types of data in each column"
   ]
  },
  {
   "cell_type": "code",
   "execution_count": 4,
   "metadata": {},
   "outputs": [
    {
     "name": "stdout",
     "output_type": "stream",
     "text": [
      "<class 'pandas.core.frame.DataFrame'>\n",
      "RangeIndex: 18249 entries, 0 to 18248\n",
      "Data columns (total 13 columns):\n",
      " #   Column           Non-Null Count  Dtype  \n",
      "---  ------           --------------  -----  \n",
      " 0   Date             18249 non-null  object \n",
      " 1   Average Price    18249 non-null  float64\n",
      " 2   Total Volume     18249 non-null  float64\n",
      " 3   Small Avocados   18249 non-null  float64\n",
      " 4   Medium Avocados  18249 non-null  float64\n",
      " 5   Large Avocados   18249 non-null  float64\n",
      " 6   Total Bags       18249 non-null  float64\n",
      " 7   Small Bags       18249 non-null  float64\n",
      " 8   Large Bags       18249 non-null  float64\n",
      " 9   Xlarge Bags      18249 non-null  float64\n",
      " 10  Type             18249 non-null  object \n",
      " 11  Year             18249 non-null  int64  \n",
      " 12  Region           18249 non-null  object \n",
      "dtypes: float64(9), int64(1), object(3)\n",
      "memory usage: 1.8+ MB\n"
     ]
    }
   ],
   "source": [
    "df.info()"
   ]
  },
  {
   "cell_type": "markdown",
   "metadata": {},
   "source": [
    "To save some memory we could turn Region into category. Let's see how many distinct values it has."
   ]
  },
  {
   "cell_type": "code",
   "execution_count": 5,
   "metadata": {},
   "outputs": [
    {
     "data": {
      "text/plain": [
       "54"
      ]
     },
     "execution_count": 5,
     "metadata": {},
     "output_type": "execute_result"
    }
   ],
   "source": [
    "df[\"Region\"].value_counts().count()"
   ]
  },
  {
   "cell_type": "markdown",
   "metadata": {},
   "source": [
    "As it only has 54 different values, we can turn it into a category."
   ]
  },
  {
   "cell_type": "code",
   "execution_count": 6,
   "metadata": {
    "scrolled": true
   },
   "outputs": [
    {
     "name": "stdout",
     "output_type": "stream",
     "text": [
      "<class 'pandas.core.frame.DataFrame'>\n",
      "RangeIndex: 18249 entries, 0 to 18248\n",
      "Data columns (total 13 columns):\n",
      " #   Column           Non-Null Count  Dtype   \n",
      "---  ------           --------------  -----   \n",
      " 0   Date             18249 non-null  object  \n",
      " 1   Average Price    18249 non-null  float64 \n",
      " 2   Total Volume     18249 non-null  float64 \n",
      " 3   Small Avocados   18249 non-null  float64 \n",
      " 4   Medium Avocados  18249 non-null  float64 \n",
      " 5   Large Avocados   18249 non-null  float64 \n",
      " 6   Total Bags       18249 non-null  float64 \n",
      " 7   Small Bags       18249 non-null  float64 \n",
      " 8   Large Bags       18249 non-null  float64 \n",
      " 9   Xlarge Bags      18249 non-null  float64 \n",
      " 10  Type             18249 non-null  object  \n",
      " 11  Year             18249 non-null  int64   \n",
      " 12  Region           18249 non-null  category\n",
      "dtypes: category(1), float64(9), int64(1), object(2)\n",
      "memory usage: 1.7+ MB\n"
     ]
    }
   ],
   "source": [
    "df[\"Region\"]= df[\"Region\"].astype(\"category\")\n",
    "df.info()"
   ]
  },
  {
   "cell_type": "markdown",
   "metadata": {},
   "source": [
    "Let's check the names of the regions and look for possible mistakes:"
   ]
  },
  {
   "cell_type": "code",
   "execution_count": 7,
   "metadata": {},
   "outputs": [
    {
     "data": {
      "text/plain": [
       "{'Albany',\n",
       " 'Atlanta',\n",
       " 'BaltimoreWashington',\n",
       " 'Boise',\n",
       " 'Boston',\n",
       " 'BuffaloRochester',\n",
       " 'California',\n",
       " 'Charlotte',\n",
       " 'Chicago',\n",
       " 'CincinnatiDayton',\n",
       " 'Columbus',\n",
       " 'DallasFtWorth',\n",
       " 'Denver',\n",
       " 'Detroit',\n",
       " 'GrandRapids',\n",
       " 'GreatLakes',\n",
       " 'HarrisburgScranton',\n",
       " 'HartfordSpringfield',\n",
       " 'Houston',\n",
       " 'Indianapolis',\n",
       " 'Jacksonville',\n",
       " 'LasVegas',\n",
       " 'LosAngeles',\n",
       " 'Louisville',\n",
       " 'MiamiFtLauderdale',\n",
       " 'Midsouth',\n",
       " 'Nashville',\n",
       " 'NewOrleansMobile',\n",
       " 'NewYork',\n",
       " 'Northeast',\n",
       " 'NorthernNewEngland',\n",
       " 'Orlando',\n",
       " 'Philadelphia',\n",
       " 'PhoenixTucson',\n",
       " 'Pittsburgh',\n",
       " 'Plains',\n",
       " 'Portland',\n",
       " 'RaleighGreensboro',\n",
       " 'RichmondNorfolk',\n",
       " 'Roanoke',\n",
       " 'Sacramento',\n",
       " 'SanDiego',\n",
       " 'SanFrancisco',\n",
       " 'Seattle',\n",
       " 'SouthCarolina',\n",
       " 'SouthCentral',\n",
       " 'Southeast',\n",
       " 'Spokane',\n",
       " 'StLouis',\n",
       " 'Syracuse',\n",
       " 'Tampa',\n",
       " 'TotalUS',\n",
       " 'West',\n",
       " 'WestTexNewMexico'}"
      ]
     },
     "execution_count": 7,
     "metadata": {},
     "output_type": "execute_result"
    }
   ],
   "source": [
    "set_regions = set(df['Region'].to_list())\n",
    "\n",
    "set_regions"
   ]
  },
  {
   "cell_type": "markdown",
   "metadata": {},
   "source": [
    "The values \"TotalUS\" and \"West\" do not make sense, so let's get rid of them."
   ]
  },
  {
   "cell_type": "code",
   "execution_count": 8,
   "metadata": {},
   "outputs": [],
   "source": [
    "df = df[df.Region != \"TotalUS\"]\n",
    "df = df[df.Region != \"West\"]"
   ]
  },
  {
   "cell_type": "code",
   "execution_count": 9,
   "metadata": {},
   "outputs": [
    {
     "data": {
      "text/plain": [
       "{'Albany',\n",
       " 'Atlanta',\n",
       " 'BaltimoreWashington',\n",
       " 'Boise',\n",
       " 'Boston',\n",
       " 'BuffaloRochester',\n",
       " 'California',\n",
       " 'Charlotte',\n",
       " 'Chicago',\n",
       " 'CincinnatiDayton',\n",
       " 'Columbus',\n",
       " 'DallasFtWorth',\n",
       " 'Denver',\n",
       " 'Detroit',\n",
       " 'GrandRapids',\n",
       " 'GreatLakes',\n",
       " 'HarrisburgScranton',\n",
       " 'HartfordSpringfield',\n",
       " 'Houston',\n",
       " 'Indianapolis',\n",
       " 'Jacksonville',\n",
       " 'LasVegas',\n",
       " 'LosAngeles',\n",
       " 'Louisville',\n",
       " 'MiamiFtLauderdale',\n",
       " 'Midsouth',\n",
       " 'Nashville',\n",
       " 'NewOrleansMobile',\n",
       " 'NewYork',\n",
       " 'Northeast',\n",
       " 'NorthernNewEngland',\n",
       " 'Orlando',\n",
       " 'Philadelphia',\n",
       " 'PhoenixTucson',\n",
       " 'Pittsburgh',\n",
       " 'Plains',\n",
       " 'Portland',\n",
       " 'RaleighGreensboro',\n",
       " 'RichmondNorfolk',\n",
       " 'Roanoke',\n",
       " 'Sacramento',\n",
       " 'SanDiego',\n",
       " 'SanFrancisco',\n",
       " 'Seattle',\n",
       " 'SouthCarolina',\n",
       " 'SouthCentral',\n",
       " 'Southeast',\n",
       " 'Spokane',\n",
       " 'StLouis',\n",
       " 'Syracuse',\n",
       " 'Tampa',\n",
       " 'WestTexNewMexico'}"
      ]
     },
     "execution_count": 9,
     "metadata": {},
     "output_type": "execute_result"
    }
   ],
   "source": [
    "# check again\n",
    "\n",
    "set_regions = set(df['Region'].to_list())\n",
    "\n",
    "set_regions"
   ]
  },
  {
   "cell_type": "markdown",
   "metadata": {},
   "source": [
    "Let's see if there are missing values:"
   ]
  },
  {
   "cell_type": "code",
   "execution_count": 10,
   "metadata": {},
   "outputs": [
    {
     "data": {
      "text/plain": [
       "Date               0\n",
       "Average Price      0\n",
       "Total Volume       0\n",
       "Small Avocados     0\n",
       "Medium Avocados    0\n",
       "Large Avocados     0\n",
       "Total Bags         0\n",
       "Small Bags         0\n",
       "Large Bags         0\n",
       "Xlarge Bags        0\n",
       "Type               0\n",
       "Year               0\n",
       "Region             0\n",
       "dtype: int64"
      ]
     },
     "execution_count": 10,
     "metadata": {},
     "output_type": "execute_result"
    }
   ],
   "source": [
    "missing_data = df.isnull().sum()\n",
    "missing_data"
   ]
  },
  {
   "cell_type": "markdown",
   "metadata": {},
   "source": [
    "Good news: no missing values!"
   ]
  },
  {
   "cell_type": "code",
   "execution_count": 11,
   "metadata": {},
   "outputs": [
    {
     "data": {
      "text/html": [
       "<div>\n",
       "<style scoped>\n",
       "    .dataframe tbody tr th:only-of-type {\n",
       "        vertical-align: middle;\n",
       "    }\n",
       "\n",
       "    .dataframe tbody tr th {\n",
       "        vertical-align: top;\n",
       "    }\n",
       "\n",
       "    .dataframe thead th {\n",
       "        text-align: right;\n",
       "    }\n",
       "</style>\n",
       "<table border=\"1\" class=\"dataframe\">\n",
       "  <thead>\n",
       "    <tr style=\"text-align: right;\">\n",
       "      <th></th>\n",
       "      <th>Date</th>\n",
       "      <th>Average Price</th>\n",
       "      <th>Total Volume</th>\n",
       "      <th>Small Avocados</th>\n",
       "      <th>Medium Avocados</th>\n",
       "      <th>Large Avocados</th>\n",
       "      <th>Total Bags</th>\n",
       "      <th>Small Bags</th>\n",
       "      <th>Large Bags</th>\n",
       "      <th>Xlarge Bags</th>\n",
       "      <th>Type</th>\n",
       "      <th>Year</th>\n",
       "      <th>Region</th>\n",
       "    </tr>\n",
       "  </thead>\n",
       "  <tbody>\n",
       "    <tr>\n",
       "      <th>0</th>\n",
       "      <td>2015-12-27</td>\n",
       "      <td>1.33</td>\n",
       "      <td>64236.62</td>\n",
       "      <td>1036.74</td>\n",
       "      <td>54454.85</td>\n",
       "      <td>48.16</td>\n",
       "      <td>8696.87</td>\n",
       "      <td>8603.62</td>\n",
       "      <td>93.25</td>\n",
       "      <td>0.0</td>\n",
       "      <td>conventional</td>\n",
       "      <td>2015</td>\n",
       "      <td>Albany</td>\n",
       "    </tr>\n",
       "    <tr>\n",
       "      <th>1</th>\n",
       "      <td>2015-12-20</td>\n",
       "      <td>1.35</td>\n",
       "      <td>54876.98</td>\n",
       "      <td>674.28</td>\n",
       "      <td>44638.81</td>\n",
       "      <td>58.33</td>\n",
       "      <td>9505.56</td>\n",
       "      <td>9408.07</td>\n",
       "      <td>97.49</td>\n",
       "      <td>0.0</td>\n",
       "      <td>conventional</td>\n",
       "      <td>2015</td>\n",
       "      <td>Albany</td>\n",
       "    </tr>\n",
       "    <tr>\n",
       "      <th>2</th>\n",
       "      <td>2015-12-13</td>\n",
       "      <td>0.93</td>\n",
       "      <td>118220.22</td>\n",
       "      <td>794.70</td>\n",
       "      <td>109149.67</td>\n",
       "      <td>130.50</td>\n",
       "      <td>8145.35</td>\n",
       "      <td>8042.21</td>\n",
       "      <td>103.14</td>\n",
       "      <td>0.0</td>\n",
       "      <td>conventional</td>\n",
       "      <td>2015</td>\n",
       "      <td>Albany</td>\n",
       "    </tr>\n",
       "    <tr>\n",
       "      <th>3</th>\n",
       "      <td>2015-12-06</td>\n",
       "      <td>1.08</td>\n",
       "      <td>78992.15</td>\n",
       "      <td>1132.00</td>\n",
       "      <td>71976.41</td>\n",
       "      <td>72.58</td>\n",
       "      <td>5811.16</td>\n",
       "      <td>5677.40</td>\n",
       "      <td>133.76</td>\n",
       "      <td>0.0</td>\n",
       "      <td>conventional</td>\n",
       "      <td>2015</td>\n",
       "      <td>Albany</td>\n",
       "    </tr>\n",
       "    <tr>\n",
       "      <th>4</th>\n",
       "      <td>2015-11-29</td>\n",
       "      <td>1.28</td>\n",
       "      <td>51039.60</td>\n",
       "      <td>941.48</td>\n",
       "      <td>43838.39</td>\n",
       "      <td>75.78</td>\n",
       "      <td>6183.95</td>\n",
       "      <td>5986.26</td>\n",
       "      <td>197.69</td>\n",
       "      <td>0.0</td>\n",
       "      <td>conventional</td>\n",
       "      <td>2015</td>\n",
       "      <td>Albany</td>\n",
       "    </tr>\n",
       "  </tbody>\n",
       "</table>\n",
       "</div>"
      ],
      "text/plain": [
       "         Date  Average Price  Total Volume  Small Avocados  Medium Avocados  \\\n",
       "0  2015-12-27           1.33      64236.62         1036.74         54454.85   \n",
       "1  2015-12-20           1.35      54876.98          674.28         44638.81   \n",
       "2  2015-12-13           0.93     118220.22          794.70        109149.67   \n",
       "3  2015-12-06           1.08      78992.15         1132.00         71976.41   \n",
       "4  2015-11-29           1.28      51039.60          941.48         43838.39   \n",
       "\n",
       "   Large Avocados  Total Bags  Small Bags  Large Bags  Xlarge Bags  \\\n",
       "0           48.16     8696.87     8603.62       93.25          0.0   \n",
       "1           58.33     9505.56     9408.07       97.49          0.0   \n",
       "2          130.50     8145.35     8042.21      103.14          0.0   \n",
       "3           72.58     5811.16     5677.40      133.76          0.0   \n",
       "4           75.78     6183.95     5986.26      197.69          0.0   \n",
       "\n",
       "           Type  Year  Region  \n",
       "0  conventional  2015  Albany  \n",
       "1  conventional  2015  Albany  \n",
       "2  conventional  2015  Albany  \n",
       "3  conventional  2015  Albany  \n",
       "4  conventional  2015  Albany  "
      ]
     },
     "execution_count": 11,
     "metadata": {},
     "output_type": "execute_result"
    }
   ],
   "source": [
    "# make sure to round the values for Average Price\n",
    "\n",
    "df = df.round({\"Average Price\":2})\n",
    "\n",
    "df.head()"
   ]
  },
  {
   "cell_type": "markdown",
   "metadata": {},
   "source": [
    "Saving the Date column as a timestamp:"
   ]
  },
  {
   "cell_type": "code",
   "execution_count": 12,
   "metadata": {},
   "outputs": [
    {
     "data": {
      "text/html": [
       "<div>\n",
       "<style scoped>\n",
       "    .dataframe tbody tr th:only-of-type {\n",
       "        vertical-align: middle;\n",
       "    }\n",
       "\n",
       "    .dataframe tbody tr th {\n",
       "        vertical-align: top;\n",
       "    }\n",
       "\n",
       "    .dataframe thead th {\n",
       "        text-align: right;\n",
       "    }\n",
       "</style>\n",
       "<table border=\"1\" class=\"dataframe\">\n",
       "  <thead>\n",
       "    <tr style=\"text-align: right;\">\n",
       "      <th></th>\n",
       "      <th>Date</th>\n",
       "      <th>Average Price</th>\n",
       "      <th>Total Volume</th>\n",
       "      <th>Small Avocados</th>\n",
       "      <th>Medium Avocados</th>\n",
       "      <th>Large Avocados</th>\n",
       "      <th>Total Bags</th>\n",
       "      <th>Small Bags</th>\n",
       "      <th>Large Bags</th>\n",
       "      <th>Xlarge Bags</th>\n",
       "      <th>Type</th>\n",
       "      <th>Year</th>\n",
       "      <th>Region</th>\n",
       "    </tr>\n",
       "  </thead>\n",
       "  <tbody>\n",
       "    <tr>\n",
       "      <th>0</th>\n",
       "      <td>2015-12-27</td>\n",
       "      <td>1.33</td>\n",
       "      <td>64236.62</td>\n",
       "      <td>1036.74</td>\n",
       "      <td>54454.85</td>\n",
       "      <td>48.16</td>\n",
       "      <td>8696.87</td>\n",
       "      <td>8603.62</td>\n",
       "      <td>93.25</td>\n",
       "      <td>0.0</td>\n",
       "      <td>conventional</td>\n",
       "      <td>2015</td>\n",
       "      <td>Albany</td>\n",
       "    </tr>\n",
       "    <tr>\n",
       "      <th>1</th>\n",
       "      <td>2015-12-20</td>\n",
       "      <td>1.35</td>\n",
       "      <td>54876.98</td>\n",
       "      <td>674.28</td>\n",
       "      <td>44638.81</td>\n",
       "      <td>58.33</td>\n",
       "      <td>9505.56</td>\n",
       "      <td>9408.07</td>\n",
       "      <td>97.49</td>\n",
       "      <td>0.0</td>\n",
       "      <td>conventional</td>\n",
       "      <td>2015</td>\n",
       "      <td>Albany</td>\n",
       "    </tr>\n",
       "    <tr>\n",
       "      <th>2</th>\n",
       "      <td>2015-12-13</td>\n",
       "      <td>0.93</td>\n",
       "      <td>118220.22</td>\n",
       "      <td>794.70</td>\n",
       "      <td>109149.67</td>\n",
       "      <td>130.50</td>\n",
       "      <td>8145.35</td>\n",
       "      <td>8042.21</td>\n",
       "      <td>103.14</td>\n",
       "      <td>0.0</td>\n",
       "      <td>conventional</td>\n",
       "      <td>2015</td>\n",
       "      <td>Albany</td>\n",
       "    </tr>\n",
       "    <tr>\n",
       "      <th>3</th>\n",
       "      <td>2015-12-06</td>\n",
       "      <td>1.08</td>\n",
       "      <td>78992.15</td>\n",
       "      <td>1132.00</td>\n",
       "      <td>71976.41</td>\n",
       "      <td>72.58</td>\n",
       "      <td>5811.16</td>\n",
       "      <td>5677.40</td>\n",
       "      <td>133.76</td>\n",
       "      <td>0.0</td>\n",
       "      <td>conventional</td>\n",
       "      <td>2015</td>\n",
       "      <td>Albany</td>\n",
       "    </tr>\n",
       "    <tr>\n",
       "      <th>4</th>\n",
       "      <td>2015-11-29</td>\n",
       "      <td>1.28</td>\n",
       "      <td>51039.60</td>\n",
       "      <td>941.48</td>\n",
       "      <td>43838.39</td>\n",
       "      <td>75.78</td>\n",
       "      <td>6183.95</td>\n",
       "      <td>5986.26</td>\n",
       "      <td>197.69</td>\n",
       "      <td>0.0</td>\n",
       "      <td>conventional</td>\n",
       "      <td>2015</td>\n",
       "      <td>Albany</td>\n",
       "    </tr>\n",
       "  </tbody>\n",
       "</table>\n",
       "</div>"
      ],
      "text/plain": [
       "        Date  Average Price  Total Volume  Small Avocados  Medium Avocados  \\\n",
       "0 2015-12-27           1.33      64236.62         1036.74         54454.85   \n",
       "1 2015-12-20           1.35      54876.98          674.28         44638.81   \n",
       "2 2015-12-13           0.93     118220.22          794.70        109149.67   \n",
       "3 2015-12-06           1.08      78992.15         1132.00         71976.41   \n",
       "4 2015-11-29           1.28      51039.60          941.48         43838.39   \n",
       "\n",
       "   Large Avocados  Total Bags  Small Bags  Large Bags  Xlarge Bags  \\\n",
       "0           48.16     8696.87     8603.62       93.25          0.0   \n",
       "1           58.33     9505.56     9408.07       97.49          0.0   \n",
       "2          130.50     8145.35     8042.21      103.14          0.0   \n",
       "3           72.58     5811.16     5677.40      133.76          0.0   \n",
       "4           75.78     6183.95     5986.26      197.69          0.0   \n",
       "\n",
       "           Type  Year  Region  \n",
       "0  conventional  2015  Albany  \n",
       "1  conventional  2015  Albany  \n",
       "2  conventional  2015  Albany  \n",
       "3  conventional  2015  Albany  \n",
       "4  conventional  2015  Albany  "
      ]
     },
     "execution_count": 12,
     "metadata": {},
     "output_type": "execute_result"
    }
   ],
   "source": [
    "df['Date'] = pd.to_datetime(df['Date'])\n",
    "df.head()"
   ]
  },
  {
   "cell_type": "markdown",
   "metadata": {},
   "source": [
    "Our data set is now good to go :)"
   ]
  },
  {
   "cell_type": "markdown",
   "metadata": {},
   "source": [
    "## <a id='2'>2. Exploratory Data Analysis</a> "
   ]
  },
  {
   "cell_type": "markdown",
   "metadata": {},
   "source": [
    "In this exploratory data analysis, I will attempt to answer the following three questions:\n",
    "- what kind of avocado do consumers prefer to buy?\n",
    "- are there seasonal trends in prices and sales of consumers' favorite avocado?\n",
    "- whate were the effects of the 2017's shortage?"
   ]
  },
  {
   "cell_type": "markdown",
   "metadata": {},
   "source": [
    "### <a id='2.1'>2.1 Consumers' favourite avocado</a> "
   ]
  },
  {
   "cell_type": "markdown",
   "metadata": {},
   "source": [
    "Before I start modifying the dataframe, I do just a quick check on its actual size:"
   ]
  },
  {
   "cell_type": "code",
   "execution_count": 13,
   "metadata": {},
   "outputs": [
    {
     "data": {
      "text/plain": [
       "(17573, 13)"
      ]
     },
     "execution_count": 13,
     "metadata": {},
     "output_type": "execute_result"
    }
   ],
   "source": [
    "# check the shape of the data\n",
    "df.shape"
   ]
  },
  {
   "cell_type": "markdown",
   "metadata": {},
   "source": [
    "So we currently have 17573 rows and 13 columns"
   ]
  },
  {
   "cell_type": "markdown",
   "metadata": {},
   "source": [
    "Now, I have data for sales by size (Small, Medium, Large) and type (conventional and organic). I want to plot these data in order to get a quick answer to my question:"
   ]
  },
  {
   "cell_type": "code",
   "execution_count": 14,
   "metadata": {},
   "outputs": [
    {
     "data": {
      "text/html": [
       "<div>\n",
       "<style scoped>\n",
       "    .dataframe tbody tr th:only-of-type {\n",
       "        vertical-align: middle;\n",
       "    }\n",
       "\n",
       "    .dataframe tbody tr th {\n",
       "        vertical-align: top;\n",
       "    }\n",
       "\n",
       "    .dataframe thead th {\n",
       "        text-align: right;\n",
       "    }\n",
       "</style>\n",
       "<table border=\"1\" class=\"dataframe\">\n",
       "  <thead>\n",
       "    <tr style=\"text-align: right;\">\n",
       "      <th></th>\n",
       "      <th>Small Avocados</th>\n",
       "      <th>Medium Avocados</th>\n",
       "      <th>Large Avocados</th>\n",
       "      <th>Type</th>\n",
       "    </tr>\n",
       "  </thead>\n",
       "  <tbody>\n",
       "    <tr>\n",
       "      <th>0</th>\n",
       "      <td>1036.74</td>\n",
       "      <td>54454.85</td>\n",
       "      <td>48.16</td>\n",
       "      <td>conventional</td>\n",
       "    </tr>\n",
       "    <tr>\n",
       "      <th>1</th>\n",
       "      <td>674.28</td>\n",
       "      <td>44638.81</td>\n",
       "      <td>58.33</td>\n",
       "      <td>conventional</td>\n",
       "    </tr>\n",
       "    <tr>\n",
       "      <th>2</th>\n",
       "      <td>794.70</td>\n",
       "      <td>109149.67</td>\n",
       "      <td>130.50</td>\n",
       "      <td>conventional</td>\n",
       "    </tr>\n",
       "    <tr>\n",
       "      <th>3</th>\n",
       "      <td>1132.00</td>\n",
       "      <td>71976.41</td>\n",
       "      <td>72.58</td>\n",
       "      <td>conventional</td>\n",
       "    </tr>\n",
       "    <tr>\n",
       "      <th>4</th>\n",
       "      <td>941.48</td>\n",
       "      <td>43838.39</td>\n",
       "      <td>75.78</td>\n",
       "      <td>conventional</td>\n",
       "    </tr>\n",
       "  </tbody>\n",
       "</table>\n",
       "</div>"
      ],
      "text/plain": [
       "   Small Avocados  Medium Avocados  Large Avocados          Type\n",
       "0         1036.74         54454.85           48.16  conventional\n",
       "1          674.28         44638.81           58.33  conventional\n",
       "2          794.70        109149.67          130.50  conventional\n",
       "3         1132.00         71976.41           72.58  conventional\n",
       "4          941.48         43838.39           75.78  conventional"
      ]
     },
     "execution_count": 14,
     "metadata": {},
     "output_type": "execute_result"
    }
   ],
   "source": [
    "# create a dataframe only with the necessary columns\n",
    "\n",
    "question1= df.drop([\"Date\",\"Total Volume\", \"Total Bags\", \"Small Bags\", \"Large Bags\", \"Xlarge Bags\", \"Year\", \"Region\",\"Average Price\"],\n",
    "                   axis=1)\n",
    "question1.head()"
   ]
  },
  {
   "cell_type": "markdown",
   "metadata": {},
   "source": [
    "To see the total sum for each size of avocado by type, I pivot the data:"
   ]
  },
  {
   "cell_type": "code",
   "execution_count": 15,
   "metadata": {},
   "outputs": [
    {
     "data": {
      "text/html": [
       "<div>\n",
       "<style scoped>\n",
       "    .dataframe tbody tr th:only-of-type {\n",
       "        vertical-align: middle;\n",
       "    }\n",
       "\n",
       "    .dataframe tbody tr th {\n",
       "        vertical-align: top;\n",
       "    }\n",
       "\n",
       "    .dataframe thead th {\n",
       "        text-align: right;\n",
       "    }\n",
       "</style>\n",
       "<table border=\"1\" class=\"dataframe\">\n",
       "  <thead>\n",
       "    <tr style=\"text-align: right;\">\n",
       "      <th></th>\n",
       "      <th>Large Avocados</th>\n",
       "      <th>Medium Avocados</th>\n",
       "      <th>Small Avocados</th>\n",
       "    </tr>\n",
       "    <tr>\n",
       "      <th>Type</th>\n",
       "      <th></th>\n",
       "      <th></th>\n",
       "      <th></th>\n",
       "    </tr>\n",
       "  </thead>\n",
       "  <tbody>\n",
       "    <tr>\n",
       "      <th>conventional</th>\n",
       "      <td>2.388028e+08</td>\n",
       "      <td>2.993105e+09</td>\n",
       "      <td>2.859961e+09</td>\n",
       "    </tr>\n",
       "    <tr>\n",
       "      <th>organic</th>\n",
       "      <td>1.468289e+06</td>\n",
       "      <td>7.740042e+07</td>\n",
       "      <td>3.362261e+07</td>\n",
       "    </tr>\n",
       "  </tbody>\n",
       "</table>\n",
       "</div>"
      ],
      "text/plain": [
       "              Large Avocados  Medium Avocados  Small Avocados\n",
       "Type                                                         \n",
       "conventional    2.388028e+08     2.993105e+09    2.859961e+09\n",
       "organic         1.468289e+06     7.740042e+07    3.362261e+07"
      ]
     },
     "execution_count": 15,
     "metadata": {},
     "output_type": "execute_result"
    }
   ],
   "source": [
    "#create the pivot table\n",
    "table= pd.pivot_table(question1, values=['Small Avocados', 'Medium Avocados', 'Large Avocados'], index=[\"Type\"],\n",
    "                    aggfunc={'Small Avocados': np.sum,\n",
    "                             'Medium Avocados': np.sum,\n",
    "                            'Large Avocados': np.sum})\n",
    "\n",
    "table"
   ]
  },
  {
   "cell_type": "markdown",
   "metadata": {},
   "source": [
    "There seems to be quite a difference between the units sold by type. The exact percenteage difference is:"
   ]
  },
  {
   "cell_type": "code",
   "execution_count": 16,
   "metadata": {},
   "outputs": [
    {
     "name": "stdout",
     "output_type": "stream",
     "text": [
      "Type\n",
      "conventional          NaN\n",
      "organic        -99.385146\n",
      "Name: Large Avocados, dtype: float64\n",
      "Type\n",
      "conventional          NaN\n",
      "organic        -97.414043\n",
      "Name: Medium Avocados, dtype: float64\n",
      "Type\n",
      "conventional          NaN\n",
      "organic        -98.824368\n",
      "Name: Small Avocados, dtype: float64\n"
     ]
    }
   ],
   "source": [
    "#the percentage difference between units sold for the two types\n",
    "\n",
    "print(table['Large Avocados'].pct_change()*100)\n",
    "print(table['Medium Avocados'].pct_change()*100)\n",
    "print(table['Small Avocados'].pct_change()*100)"
   ]
  },
  {
   "cell_type": "markdown",
   "metadata": {},
   "source": [
    "All in all, the numbers show that consumers tend to prefer medium conventional avocados, althought small conventional avocados are also sold a lot."
   ]
  },
  {
   "cell_type": "markdown",
   "metadata": {},
   "source": [
    "#### ANSWER 1: Consumers prefer to buy conventional medium-sized avocados."
   ]
  },
  {
   "cell_type": "markdown",
   "metadata": {},
   "source": [
    "### <a id='2.2'>2.2 Seasonal trends</a>"
   ]
  },
  {
   "cell_type": "markdown",
   "metadata": {},
   "source": [
    "Concerning the conventional medium-size avocado, are there seasonal trends in the average price and quantity sold?"
   ]
  },
  {
   "cell_type": "markdown",
   "metadata": {},
   "source": [
    "I first need to create an appropriate dataframe:"
   ]
  },
  {
   "cell_type": "code",
   "execution_count": 18,
   "metadata": {},
   "outputs": [
    {
     "data": {
      "text/html": [
       "<div>\n",
       "<style scoped>\n",
       "    .dataframe tbody tr th:only-of-type {\n",
       "        vertical-align: middle;\n",
       "    }\n",
       "\n",
       "    .dataframe tbody tr th {\n",
       "        vertical-align: top;\n",
       "    }\n",
       "\n",
       "    .dataframe thead th {\n",
       "        text-align: right;\n",
       "    }\n",
       "</style>\n",
       "<table border=\"1\" class=\"dataframe\">\n",
       "  <thead>\n",
       "    <tr style=\"text-align: right;\">\n",
       "      <th></th>\n",
       "      <th>Date</th>\n",
       "      <th>Average Price</th>\n",
       "      <th>Medium Avocados</th>\n",
       "      <th>Type</th>\n",
       "    </tr>\n",
       "  </thead>\n",
       "  <tbody>\n",
       "    <tr>\n",
       "      <th>0</th>\n",
       "      <td>2015-12-27</td>\n",
       "      <td>1.33</td>\n",
       "      <td>54454.85</td>\n",
       "      <td>conventional</td>\n",
       "    </tr>\n",
       "    <tr>\n",
       "      <th>1</th>\n",
       "      <td>2015-12-20</td>\n",
       "      <td>1.35</td>\n",
       "      <td>44638.81</td>\n",
       "      <td>conventional</td>\n",
       "    </tr>\n",
       "    <tr>\n",
       "      <th>2</th>\n",
       "      <td>2015-12-13</td>\n",
       "      <td>0.93</td>\n",
       "      <td>109149.67</td>\n",
       "      <td>conventional</td>\n",
       "    </tr>\n",
       "    <tr>\n",
       "      <th>3</th>\n",
       "      <td>2015-12-06</td>\n",
       "      <td>1.08</td>\n",
       "      <td>71976.41</td>\n",
       "      <td>conventional</td>\n",
       "    </tr>\n",
       "    <tr>\n",
       "      <th>4</th>\n",
       "      <td>2015-11-29</td>\n",
       "      <td>1.28</td>\n",
       "      <td>43838.39</td>\n",
       "      <td>conventional</td>\n",
       "    </tr>\n",
       "  </tbody>\n",
       "</table>\n",
       "</div>"
      ],
      "text/plain": [
       "        Date  Average Price  Medium Avocados          Type\n",
       "0 2015-12-27           1.33         54454.85  conventional\n",
       "1 2015-12-20           1.35         44638.81  conventional\n",
       "2 2015-12-13           0.93        109149.67  conventional\n",
       "3 2015-12-06           1.08         71976.41  conventional\n",
       "4 2015-11-29           1.28         43838.39  conventional"
      ]
     },
     "execution_count": 18,
     "metadata": {},
     "output_type": "execute_result"
    }
   ],
   "source": [
    "#create a version of the dataframe containing only the data we need\n",
    "\n",
    "question2= df.drop([\"Total Volume\", \"Total Bags\", \"Small Avocados\",\"Large Avocados\",\"Small Bags\", \"Large Bags\", \"Xlarge Bags\", \"Year\", \"Region\",],\n",
    "                   axis=1)\n",
    "question2.head()"
   ]
  },
  {
   "cell_type": "code",
   "execution_count": 19,
   "metadata": {},
   "outputs": [],
   "source": [
    "#now we need to select only the conventional type\n",
    "\n",
    "mask = question2[\"Type\"]== \"conventional\"\n",
    "\n",
    "question2 = question2[mask]"
   ]
  },
  {
   "cell_type": "markdown",
   "metadata": {},
   "source": [
    "Let's plot the seasonal trends for Average Price:"
   ]
  },
  {
   "cell_type": "code",
   "execution_count": 20,
   "metadata": {},
   "outputs": [
    {
     "data": {
      "image/png": "[encoded data removed]",
      "text/plain": [
       "<Figure size 1440x720 with 1 Axes>"
      ]
     },
     "metadata": {},
     "output_type": "display_data"
    }
   ],
   "source": [
    "#seasonal trends for average price\n",
    "\n",
    "sns.set()\n",
    "season = question2\n",
    "season['Date'] = question2.Date\n",
    "season['Year'] = question2['Date'].dt.year\n",
    "season['Month'] = question2['Date'].dt.month\n",
    "spivot = pd.pivot_table(season, index='Month', columns = 'Year', values = 'Average Price', aggfunc=np.mean)\n",
    "spivot.plot(figsize=(20,10), linewidth=3)\n",
    "pl.show()"
   ]
  },
  {
   "cell_type": "markdown",
   "metadata": {},
   "source": [
    "We can observe that:\n",
    "\n",
    "- the price drops between January and February, starting to rise again towards March\n",
    "- for 2016 and 2017, it increases until October-November it drops in December\n",
    "- the Average Price was quite stable throughout 2015, while it seems to be more affected by seasonal trends in 2016 and 2017\n",
    "- the Average Price saw a large increase from February until November 2017\n",
    "- avocados are more expensive in the second semester of the year"
   ]
  },
  {
   "cell_type": "markdown",
   "metadata": {},
   "source": [
    "Let's now plot the seasonal trends for units of medium avocados sold:"
   ]
  },
  {
   "cell_type": "code",
   "execution_count": 21,
   "metadata": {},
   "outputs": [
    {
     "data": {
      "image/png": "[encoded data removed]",
      "text/plain": [
       "<Figure size 1440x720 with 1 Axes>"
      ]
     },
     "metadata": {},
     "output_type": "display_data"
    }
   ],
   "source": [
    "#seasonal trends for quantities sold\n",
    "\n",
    "sns.set()\n",
    "season = question2\n",
    "season['Date'] = question2.Date\n",
    "season['Year'] = question2['Date'].dt.year\n",
    "season['Month'] = question2['Date'].dt.month\n",
    "spivot = pd.pivot_table(season, index='Month', columns = 'Year', values = 'Medium Avocados', aggfunc=np.mean)\n",
    "spivot.plot(figsize=(20,10), linewidth=3)\n",
    "pl.show()"
   ]
  },
  {
   "cell_type": "markdown",
   "metadata": {},
   "source": [
    "From the plot we can observe that:\n",
    "- sales have a first peak in February, followed by a drop that usually lasts until the second part of March- beginning of April\n",
    "- a second peak is reached in June while conventional medium-sized avocados are sold the least in automn and winter (despite a peak in sales in September 2015)\n",
    "- sales in 2017 were way lower than in the previous years\n",
    "- sales in 2016 were higher than usual during the first 5 months but then plummeted\n"
   ]
  },
  {
   "cell_type": "markdown",
   "metadata": {},
   "source": [
    "#### ANSWER 2: a) Buying an avocado in the second part of the year will cost us more, unless it is December where actually the price is usually pretty low. The worse moment for buying is usually right after August. Possibly the best deals can be made beginning of February. b) Consumers seem to have understood that beginning of February is a good moment for buying their favorite avocados. But they also love it as summer food, while shifting their preferences during colder times."
   ]
  },
  {
   "cell_type": "markdown",
   "metadata": {},
   "source": [
    "###  <a id='2.3'>2.3 Effects of 2017's shortage</a>"
   ]
  },
  {
   "cell_type": "markdown",
   "metadata": {},
   "source": [
    "Premise: we do only have the average price across size of avocado so we cannot see changes in prices for avocados of medium size only.\n",
    "\n",
    "Due to a reduce harvest in Mexico, Perù and California, and a stable if not increasing demand, in 2017 avocados prices increased everywhere in the US."
   ]
  },
  {
   "cell_type": "markdown",
   "metadata": {},
   "source": [
    "By plotting a heatmap it is possible to a first visualizion of the evolution of prices over time and region. \n",
    "As the conventional type of avocado is usually sold way more than the organic one, we are going to observe changes for the conventional type only.\n",
    "We must first pivot the table."
   ]
  },
  {
   "cell_type": "code",
   "execution_count": 22,
   "metadata": {},
   "outputs": [],
   "source": [
    "#now we select only the conventional type\n",
    "\n",
    "mask = df[\"Type\"]== \"conventional\"\n",
    "\n",
    "df3 = df[mask]"
   ]
  },
  {
   "cell_type": "code",
   "execution_count": 23,
   "metadata": {},
   "outputs": [
    {
     "data": {
      "text/html": [
       "<div>\n",
       "<style scoped>\n",
       "    .dataframe tbody tr th:only-of-type {\n",
       "        vertical-align: middle;\n",
       "    }\n",
       "\n",
       "    .dataframe tbody tr th {\n",
       "        vertical-align: top;\n",
       "    }\n",
       "\n",
       "    .dataframe thead th {\n",
       "        text-align: right;\n",
       "    }\n",
       "</style>\n",
       "<table border=\"1\" class=\"dataframe\">\n",
       "  <thead>\n",
       "    <tr style=\"text-align: right;\">\n",
       "      <th>Year</th>\n",
       "      <th>2015</th>\n",
       "      <th>2016</th>\n",
       "      <th>2017</th>\n",
       "      <th>2018</th>\n",
       "    </tr>\n",
       "    <tr>\n",
       "      <th>Region</th>\n",
       "      <th></th>\n",
       "      <th></th>\n",
       "      <th></th>\n",
       "      <th></th>\n",
       "    </tr>\n",
       "  </thead>\n",
       "  <tbody>\n",
       "    <tr>\n",
       "      <th>Albany</th>\n",
       "      <td>1.171923</td>\n",
       "      <td>1.345769</td>\n",
       "      <td>1.526415</td>\n",
       "      <td>1.343333</td>\n",
       "    </tr>\n",
       "    <tr>\n",
       "      <th>Atlanta</th>\n",
       "      <td>1.052308</td>\n",
       "      <td>0.972885</td>\n",
       "      <td>1.192453</td>\n",
       "      <td>1.010000</td>\n",
       "    </tr>\n",
       "    <tr>\n",
       "      <th>BaltimoreWashington</th>\n",
       "      <td>1.168077</td>\n",
       "      <td>1.356538</td>\n",
       "      <td>1.514717</td>\n",
       "      <td>1.300833</td>\n",
       "    </tr>\n",
       "    <tr>\n",
       "      <th>Boise</th>\n",
       "      <td>1.054038</td>\n",
       "      <td>0.878269</td>\n",
       "      <td>1.268113</td>\n",
       "      <td>1.180000</td>\n",
       "    </tr>\n",
       "    <tr>\n",
       "      <th>Boston</th>\n",
       "      <td>1.144038</td>\n",
       "      <td>1.263077</td>\n",
       "      <td>1.495283</td>\n",
       "      <td>1.335000</td>\n",
       "    </tr>\n",
       "    <tr>\n",
       "      <th>BuffaloRochester</th>\n",
       "      <td>1.403462</td>\n",
       "      <td>1.330192</td>\n",
       "      <td>1.443396</td>\n",
       "      <td>1.246667</td>\n",
       "    </tr>\n",
       "    <tr>\n",
       "      <th>California</th>\n",
       "      <td>1.020385</td>\n",
       "      <td>1.046154</td>\n",
       "      <td>1.253019</td>\n",
       "      <td>1.079167</td>\n",
       "    </tr>\n",
       "    <tr>\n",
       "      <th>Charlotte</th>\n",
       "      <td>1.148462</td>\n",
       "      <td>1.255962</td>\n",
       "      <td>1.423962</td>\n",
       "      <td>1.249167</td>\n",
       "    </tr>\n",
       "    <tr>\n",
       "      <th>Chicago</th>\n",
       "      <td>1.153654</td>\n",
       "      <td>1.331154</td>\n",
       "      <td>1.606226</td>\n",
       "      <td>1.423333</td>\n",
       "    </tr>\n",
       "    <tr>\n",
       "      <th>CincinnatiDayton</th>\n",
       "      <td>0.977115</td>\n",
       "      <td>0.948846</td>\n",
       "      <td>1.132075</td>\n",
       "      <td>0.955833</td>\n",
       "    </tr>\n",
       "    <tr>\n",
       "      <th>Columbus</th>\n",
       "      <td>1.008077</td>\n",
       "      <td>1.049231</td>\n",
       "      <td>1.162830</td>\n",
       "      <td>0.965833</td>\n",
       "    </tr>\n",
       "    <tr>\n",
       "      <th>DallasFtWorth</th>\n",
       "      <td>0.781923</td>\n",
       "      <td>0.827308</td>\n",
       "      <td>0.937925</td>\n",
       "      <td>0.805000</td>\n",
       "    </tr>\n",
       "    <tr>\n",
       "      <th>Denver</th>\n",
       "      <td>1.048654</td>\n",
       "      <td>0.958654</td>\n",
       "      <td>1.218113</td>\n",
       "      <td>1.046667</td>\n",
       "    </tr>\n",
       "    <tr>\n",
       "      <th>Detroit</th>\n",
       "      <td>1.047115</td>\n",
       "      <td>1.092115</td>\n",
       "      <td>1.248491</td>\n",
       "      <td>1.045000</td>\n",
       "    </tr>\n",
       "    <tr>\n",
       "      <th>GrandRapids</th>\n",
       "      <td>1.086923</td>\n",
       "      <td>1.294038</td>\n",
       "      <td>1.574906</td>\n",
       "      <td>1.387500</td>\n",
       "    </tr>\n",
       "    <tr>\n",
       "      <th>GreatLakes</th>\n",
       "      <td>1.077692</td>\n",
       "      <td>1.141923</td>\n",
       "      <td>1.331321</td>\n",
       "      <td>1.146667</td>\n",
       "    </tr>\n",
       "    <tr>\n",
       "      <th>HarrisburgScranton</th>\n",
       "      <td>1.145769</td>\n",
       "      <td>1.232500</td>\n",
       "      <td>1.408302</td>\n",
       "      <td>1.202500</td>\n",
       "    </tr>\n",
       "    <tr>\n",
       "      <th>HartfordSpringfield</th>\n",
       "      <td>1.242885</td>\n",
       "      <td>1.409038</td>\n",
       "      <td>1.574717</td>\n",
       "      <td>1.383333</td>\n",
       "    </tr>\n",
       "    <tr>\n",
       "      <th>Houston</th>\n",
       "      <td>0.792500</td>\n",
       "      <td>0.830769</td>\n",
       "      <td>0.875660</td>\n",
       "      <td>0.718333</td>\n",
       "    </tr>\n",
       "    <tr>\n",
       "      <th>Indianapolis</th>\n",
       "      <td>1.104615</td>\n",
       "      <td>1.118077</td>\n",
       "      <td>1.246792</td>\n",
       "      <td>0.985000</td>\n",
       "    </tr>\n",
       "  </tbody>\n",
       "</table>\n",
       "</div>"
      ],
      "text/plain": [
       "Year                     2015      2016      2017      2018\n",
       "Region                                                     \n",
       "Albany               1.171923  1.345769  1.526415  1.343333\n",
       "Atlanta              1.052308  0.972885  1.192453  1.010000\n",
       "BaltimoreWashington  1.168077  1.356538  1.514717  1.300833\n",
       "Boise                1.054038  0.878269  1.268113  1.180000\n",
       "Boston               1.144038  1.263077  1.495283  1.335000\n",
       "BuffaloRochester     1.403462  1.330192  1.443396  1.246667\n",
       "California           1.020385  1.046154  1.253019  1.079167\n",
       "Charlotte            1.148462  1.255962  1.423962  1.249167\n",
       "Chicago              1.153654  1.331154  1.606226  1.423333\n",
       "CincinnatiDayton     0.977115  0.948846  1.132075  0.955833\n",
       "Columbus             1.008077  1.049231  1.162830  0.965833\n",
       "DallasFtWorth        0.781923  0.827308  0.937925  0.805000\n",
       "Denver               1.048654  0.958654  1.218113  1.046667\n",
       "Detroit              1.047115  1.092115  1.248491  1.045000\n",
       "GrandRapids          1.086923  1.294038  1.574906  1.387500\n",
       "GreatLakes           1.077692  1.141923  1.331321  1.146667\n",
       "HarrisburgScranton   1.145769  1.232500  1.408302  1.202500\n",
       "HartfordSpringfield  1.242885  1.409038  1.574717  1.383333\n",
       "Houston              0.792500  0.830769  0.875660  0.718333\n",
       "Indianapolis         1.104615  1.118077  1.246792  0.985000"
      ]
     },
     "execution_count": 23,
     "metadata": {},
     "output_type": "execute_result"
    }
   ],
   "source": [
    "table_heat = pd.pivot_table(df3, values='Average Price', index=['Region'], columns=['Year'], aggfunc=np.mean)\n",
    "    \n",
    "table_heat.head(20)"
   ]
  },
  {
   "cell_type": "markdown",
   "metadata": {},
   "source": [
    "Now we can create the heatmap:"
   ]
  },
  {
   "cell_type": "code",
   "execution_count": 24,
   "metadata": {},
   "outputs": [
    {
     "data": {
      "image/png": "[encoded data removed]",
      "text/plain": [
       "<Figure size 576x1800 with 2 Axes>"
      ]
     },
     "metadata": {},
     "output_type": "display_data"
    }
   ],
   "source": [
    "# setting the size\n",
    "pl.figure(figsize=(8, 25))\n",
    "\n",
    "# plot heatmap\n",
    "sns.heatmap(table_heat, cmap=\"Greens\", annot = True, xticklabels= True, yticklabels= True, linewidth=0.3)\n",
    "\n",
    "# title\n",
    "title = 'Average price of avocado in USD, 2015-2018'\n",
    "pl.title(title, loc='center')\n",
    "pl.show()"
   ]
  },
  {
   "cell_type": "markdown",
   "metadata": {},
   "source": [
    "Regions particularly affected by the increase in prices (i.e. equal to 1.6 USD) were New York, Hartford Springfield, Grand Rapids, Chicago. For seeing this change on a map, please look at the Part 2."
   ]
  },
  {
   "cell_type": "markdown",
   "metadata": {},
   "source": [
    "##### How did it affect the quantity sold?\n",
    "\n",
    "We now will try to understand the change in total volume of sold in 2016 and 2017:"
   ]
  },
  {
   "cell_type": "code",
   "execution_count": 25,
   "metadata": {},
   "outputs": [
    {
     "data": {
      "text/plain": [
       "Timestamp('2018-03-25 00:00:00')"
      ]
     },
     "execution_count": 25,
     "metadata": {},
     "output_type": "execute_result"
    }
   ],
   "source": [
    "#keep in mind that data for 2018 are not complete in this data set so no sense including it in percentual change overview\n",
    "\n",
    "df['Date'].max()"
   ]
  },
  {
   "cell_type": "code",
   "execution_count": 26,
   "metadata": {},
   "outputs": [],
   "source": [
    "# so we first create dataframe with only 2015, 2016 and 2017\n",
    "\n",
    "cond= (df3['Year']== 2015) | (df3['Year']== 2016) | (df3['Year']== 2017)\n",
    "\n",
    "change =df3[cond]"
   ]
  },
  {
   "cell_type": "markdown",
   "metadata": {},
   "source": [
    "We want to create a table with % change:"
   ]
  },
  {
   "cell_type": "code",
   "execution_count": 27,
   "metadata": {},
   "outputs": [
    {
     "data": {
      "text/html": [
       "<div>\n",
       "<style scoped>\n",
       "    .dataframe tbody tr th:only-of-type {\n",
       "        vertical-align: middle;\n",
       "    }\n",
       "\n",
       "    .dataframe tbody tr th {\n",
       "        vertical-align: top;\n",
       "    }\n",
       "\n",
       "    .dataframe thead th {\n",
       "        text-align: right;\n",
       "    }\n",
       "</style>\n",
       "<table border=\"1\" class=\"dataframe\">\n",
       "  <thead>\n",
       "    <tr style=\"text-align: right;\">\n",
       "      <th></th>\n",
       "      <th>Average Price</th>\n",
       "      <th>Large Avocados</th>\n",
       "      <th>Medium Avocados</th>\n",
       "      <th>Small Avocados</th>\n",
       "      <th>Total Volume</th>\n",
       "    </tr>\n",
       "    <tr>\n",
       "      <th>Year</th>\n",
       "      <th></th>\n",
       "      <th></th>\n",
       "      <th></th>\n",
       "      <th></th>\n",
       "      <th></th>\n",
       "    </tr>\n",
       "  </thead>\n",
       "  <tbody>\n",
       "    <tr>\n",
       "      <th>2015</th>\n",
       "      <td>1.081875</td>\n",
       "      <td>82667192.63</td>\n",
       "      <td>9.645666e+08</td>\n",
       "      <td>9.142409e+08</td>\n",
       "      <td>2.378837e+09</td>\n",
       "    </tr>\n",
       "    <tr>\n",
       "      <th>2016</th>\n",
       "      <td>1.110377</td>\n",
       "      <td>91755638.38</td>\n",
       "      <td>9.367192e+08</td>\n",
       "      <td>8.084535e+08</td>\n",
       "      <td>2.586936e+09</td>\n",
       "    </tr>\n",
       "    <tr>\n",
       "      <th>2017</th>\n",
       "      <td>1.300076</td>\n",
       "      <td>51393054.09</td>\n",
       "      <td>8.653309e+08</td>\n",
       "      <td>8.867390e+08</td>\n",
       "      <td>2.631583e+09</td>\n",
       "    </tr>\n",
       "  </tbody>\n",
       "</table>\n",
       "</div>"
      ],
      "text/plain": [
       "      Average Price  Large Avocados  Medium Avocados  Small Avocados  \\\n",
       "Year                                                                   \n",
       "2015       1.081875     82667192.63     9.645666e+08    9.142409e+08   \n",
       "2016       1.110377     91755638.38     9.367192e+08    8.084535e+08   \n",
       "2017       1.300076     51393054.09     8.653309e+08    8.867390e+08   \n",
       "\n",
       "      Total Volume  \n",
       "Year                \n",
       "2015  2.378837e+09  \n",
       "2016  2.586936e+09  \n",
       "2017  2.631583e+09  "
      ]
     },
     "execution_count": 27,
     "metadata": {},
     "output_type": "execute_result"
    }
   ],
   "source": [
    "# pivot the data\n",
    "table3= pd.pivot_table(change, values=['Small Avocados','Medium Avocados', 'Large Avocados','Total Volume', 'Average Price'],\n",
    "                        index=[\"Year\"],\n",
    "                    aggfunc={'Small Avocados' : np.sum,\n",
    "                        'Medium Avocados' : np.sum,\n",
    "                        'Large Avocados' : np.sum,\n",
    "                        'Total Volume': np.sum,\n",
    "                        'Average Price': np.mean})\n",
    "\n",
    "table3"
   ]
  },
  {
   "cell_type": "code",
   "execution_count": 28,
   "metadata": {},
   "outputs": [
    {
     "data": {
      "text/html": [
       "<div>\n",
       "<style scoped>\n",
       "    .dataframe tbody tr th:only-of-type {\n",
       "        vertical-align: middle;\n",
       "    }\n",
       "\n",
       "    .dataframe tbody tr th {\n",
       "        vertical-align: top;\n",
       "    }\n",
       "\n",
       "    .dataframe thead th {\n",
       "        text-align: right;\n",
       "    }\n",
       "</style>\n",
       "<table border=\"1\" class=\"dataframe\">\n",
       "  <thead>\n",
       "    <tr style=\"text-align: right;\">\n",
       "      <th></th>\n",
       "      <th>Average Price</th>\n",
       "      <th>Large Avocados</th>\n",
       "      <th>Medium Avocados</th>\n",
       "      <th>Small Avocados</th>\n",
       "      <th>Total Volume</th>\n",
       "    </tr>\n",
       "    <tr>\n",
       "      <th>Year</th>\n",
       "      <th></th>\n",
       "      <th></th>\n",
       "      <th></th>\n",
       "      <th></th>\n",
       "      <th></th>\n",
       "    </tr>\n",
       "  </thead>\n",
       "  <tbody>\n",
       "    <tr>\n",
       "      <th>2015</th>\n",
       "      <td>NaN</td>\n",
       "      <td>NaN</td>\n",
       "      <td>NaN</td>\n",
       "      <td>NaN</td>\n",
       "      <td>NaN</td>\n",
       "    </tr>\n",
       "    <tr>\n",
       "      <th>2016</th>\n",
       "      <td>2.634521</td>\n",
       "      <td>10.994018</td>\n",
       "      <td>-2.887031</td>\n",
       "      <td>-11.571069</td>\n",
       "      <td>8.747931</td>\n",
       "    </tr>\n",
       "    <tr>\n",
       "      <th>2017</th>\n",
       "      <td>17.084192</td>\n",
       "      <td>-43.989214</td>\n",
       "      <td>-7.621107</td>\n",
       "      <td>9.683363</td>\n",
       "      <td>1.725876</td>\n",
       "    </tr>\n",
       "  </tbody>\n",
       "</table>\n",
       "</div>"
      ],
      "text/plain": [
       "      Average Price  Large Avocados  Medium Avocados  Small Avocados  \\\n",
       "Year                                                                   \n",
       "2015            NaN             NaN              NaN             NaN   \n",
       "2016       2.634521       10.994018        -2.887031      -11.571069   \n",
       "2017      17.084192      -43.989214        -7.621107        9.683363   \n",
       "\n",
       "      Total Volume  \n",
       "Year                \n",
       "2015           NaN  \n",
       "2016      8.747931  \n",
       "2017      1.725876  "
      ]
     },
     "execution_count": 28,
     "metadata": {},
     "output_type": "execute_result"
    }
   ],
   "source": [
    "#calculate the percetual change from one year to the other\n",
    "\n",
    "table3 = (table3.pct_change())*100\n",
    "table3"
   ]
  },
  {
   "cell_type": "markdown",
   "metadata": {},
   "source": [
    "Let's make the table easier to read:"
   ]
  },
  {
   "cell_type": "code",
   "execution_count": 29,
   "metadata": {},
   "outputs": [],
   "source": [
    "#drop 2015\n",
    "perc_change_view = table3.drop(labels= 2015, axis= 'index')"
   ]
  },
  {
   "cell_type": "code",
   "execution_count": 30,
   "metadata": {},
   "outputs": [],
   "source": [
    "# add colors\n",
    "\n",
    "#define the color function\n",
    "\n",
    "def color_negative_red(value):\n",
    "\n",
    "  if value < 0:\n",
    "    color = 'red'\n",
    "  else:\n",
    "    color = 'green'\n",
    "\n",
    "  return 'color: %s' % color"
   ]
  },
  {
   "cell_type": "code",
   "execution_count": 31,
   "metadata": {},
   "outputs": [
    {
     "data": {
      "text/html": [
       "<style  type=\"text/css\" >\n",
       "#T_869f08a8_0623_11eb_8f7e_6057183ca6c6row0_col0,#T_869f08a8_0623_11eb_8f7e_6057183ca6c6row0_col1,#T_869f08a8_0623_11eb_8f7e_6057183ca6c6row0_col4,#T_869f08a8_0623_11eb_8f7e_6057183ca6c6row1_col0,#T_869f08a8_0623_11eb_8f7e_6057183ca6c6row1_col3,#T_869f08a8_0623_11eb_8f7e_6057183ca6c6row1_col4{\n",
       "            color:  green;\n",
       "        }#T_869f08a8_0623_11eb_8f7e_6057183ca6c6row0_col2,#T_869f08a8_0623_11eb_8f7e_6057183ca6c6row0_col3,#T_869f08a8_0623_11eb_8f7e_6057183ca6c6row1_col1,#T_869f08a8_0623_11eb_8f7e_6057183ca6c6row1_col2{\n",
       "            color:  red;\n",
       "        }</style><table id=\"T_869f08a8_0623_11eb_8f7e_6057183ca6c6\" ><thead>    <tr>        <th class=\"blank level0\" ></th>        <th class=\"col_heading level0 col0\" >Average Price</th>        <th class=\"col_heading level0 col1\" >Large Avocados</th>        <th class=\"col_heading level0 col2\" >Medium Avocados</th>        <th class=\"col_heading level0 col3\" >Small Avocados</th>        <th class=\"col_heading level0 col4\" >Total Volume</th>    </tr>    <tr>        <th class=\"index_name level0\" >Year</th>        <th class=\"blank\" ></th>        <th class=\"blank\" ></th>        <th class=\"blank\" ></th>        <th class=\"blank\" ></th>        <th class=\"blank\" ></th>    </tr></thead><tbody>\n",
       "                <tr>\n",
       "                        <th id=\"T_869f08a8_0623_11eb_8f7e_6057183ca6c6level0_row0\" class=\"row_heading level0 row0\" >2016</th>\n",
       "                        <td id=\"T_869f08a8_0623_11eb_8f7e_6057183ca6c6row0_col0\" class=\"data row0 col0\" >2.634521</td>\n",
       "                        <td id=\"T_869f08a8_0623_11eb_8f7e_6057183ca6c6row0_col1\" class=\"data row0 col1\" >10.994018</td>\n",
       "                        <td id=\"T_869f08a8_0623_11eb_8f7e_6057183ca6c6row0_col2\" class=\"data row0 col2\" >-2.887031</td>\n",
       "                        <td id=\"T_869f08a8_0623_11eb_8f7e_6057183ca6c6row0_col3\" class=\"data row0 col3\" >-11.571069</td>\n",
       "                        <td id=\"T_869f08a8_0623_11eb_8f7e_6057183ca6c6row0_col4\" class=\"data row0 col4\" >8.747931</td>\n",
       "            </tr>\n",
       "            <tr>\n",
       "                        <th id=\"T_869f08a8_0623_11eb_8f7e_6057183ca6c6level0_row1\" class=\"row_heading level0 row1\" >2017</th>\n",
       "                        <td id=\"T_869f08a8_0623_11eb_8f7e_6057183ca6c6row1_col0\" class=\"data row1 col0\" >17.084192</td>\n",
       "                        <td id=\"T_869f08a8_0623_11eb_8f7e_6057183ca6c6row1_col1\" class=\"data row1 col1\" >-43.989214</td>\n",
       "                        <td id=\"T_869f08a8_0623_11eb_8f7e_6057183ca6c6row1_col2\" class=\"data row1 col2\" >-7.621107</td>\n",
       "                        <td id=\"T_869f08a8_0623_11eb_8f7e_6057183ca6c6row1_col3\" class=\"data row1 col3\" >9.683363</td>\n",
       "                        <td id=\"T_869f08a8_0623_11eb_8f7e_6057183ca6c6row1_col4\" class=\"data row1 col4\" >1.725876</td>\n",
       "            </tr>\n",
       "    </tbody></table>"
      ],
      "text/plain": [
       "<pandas.io.formats.style.Styler at 0x225ace72b50>"
      ]
     },
     "execution_count": 31,
     "metadata": {},
     "output_type": "execute_result"
    }
   ],
   "source": [
    "#apply colors depending on whether the value is positive or negative\n",
    "\n",
    "perc_change_view.style.applymap(color_negative_red, subset=['Average Price','Large Avocados', \"Medium Avocados\",\n",
    "                                                           \"Small Avocados\", \"Total Volume\"])"
   ]
  },
  {
   "cell_type": "markdown",
   "metadata": {},
   "source": [
    "We notice that:\n",
    "\n",
    "- Average Price increased by 17% in 2017\n",
    "- sales for Large Avocados were the most affected, -44%\n",
    "- consumers started to prefer small avocados, +10%\n",
    "- sales for Medium Avocados were sinkin in 2016 too but reached even lower in 2017, -8%\n",
    "- Total Volume increased by almost 2%"
   ]
  },
  {
   "cell_type": "markdown",
   "metadata": {},
   "source": [
    "#### ANSWER 3: Due to the reduced harvest, the average price for conventional avocados in 2017 saw an increase of 17%. The regions the most affected were New York, Hartford Springfield, Grand Rapids, Chicago, were average prices reached 1.6 USD. During the shortage, consumers started buying more conventional small-sized avocados possibly due to the lower purchasing power. "
   ]
  },
  {
   "cell_type": "markdown",
   "metadata": {},
   "source": [
    "## <a id='3'>Conclusion</a> "
   ]
  },
  {
   "cell_type": "markdown",
   "metadata": {},
   "source": [
    "To summarize, from this analysis we learned that:\n",
    "\n",
    "- Consumers prefer to buy conventional medium-sized avocados.\n",
    "- Buying an avocado in the second part of the year will cost us more, unless it is December where actually the price is usually pretty low. The worse moment for buying is usually right after August. Possibly the best deals can be made beginning of February. Consumers seem to have understood that beginning of February is a good moment for buying their favorite avocados. But they also love it as summer food, while shifting their preferences during colder times.\n",
    "- Due to the reduced harvest, the average price for conventional avocados in 2017 saw an increase of 17%. The regions the most affected were New York, Hartford Springfield, Grand Rapids, Chicago, were average prices reached 1.6 USD. During the shortage, consumers started buying more conventional small-sized avocados possibly due to the lower purchasing power. "
   ]
  }
 ],
 "metadata": {
  "kernelspec": {
   "display_name": "Python 3",
   "language": "python",
   "name": "python3"
  },
  "language_info": {
   "codemirror_mode": {
    "name": "ipython",
    "version": 3
   },
   "file_extension": ".py",
   "mimetype": "text/x-python",
   "name": "python",
   "nbconvert_exporter": "python",
   "pygments_lexer": "ipython3",
   "version": "3.8.5"
  }
 },
 "nbformat": 4,
 "nbformat_minor": 2
}
